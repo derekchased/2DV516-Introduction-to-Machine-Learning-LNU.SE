{
 "cells": [
  {
   "cell_type": "markdown",
   "metadata": {},
   "source": [
    "<h1>Assignment 4</h1>\n",
    "<h2>Pima Indians Diabetes</h2>\n",
    "<br>\n",
    "<p>I am interested in this dataset because my father has suffered with Diabetes since he was a child.</p>\n",
    "<p>https://www.kaggle.com/uciml/pima-indians-diabetes-database</p>\n",
    "    "
   ]
  },
  {
   "cell_type": "markdown",
   "metadata": {},
   "source": [
    "<h4>Imports</h4>"
   ]
  },
  {
   "cell_type": "code",
   "execution_count": 1,
   "metadata": {},
   "outputs": [],
   "source": [
    "from sklearn.cluster import KMeans\n",
    "import numpy as np"
   ]
  },
  {
   "cell_type": "markdown",
   "metadata": {},
   "source": [
    "### Exercise 1: Clustering, Bisecting k-Means"
   ]
  },
  {
   "cell_type": "markdown",
   "metadata": {},
   "source": [
    "<h4>Helper Functions</h4>"
   ]
  },
  {
   "cell_type": "code",
   "execution_count": 2,
   "metadata": {},
   "outputs": [],
   "source": [
    "def feature_normalization(X):\n",
    "    # compute mean and stdev over axis 0, the feature vector (down the column)\n",
    "    mean = np.mean(X,0)\n",
    "    stddev = np.std(X,0)\n",
    "    \n",
    "    # elementwise difference\n",
    "    diff = np.subtract(X,mean)\n",
    "    \n",
    "    # elementwise division\n",
    "    normalized = np.divide(diff,stddev)\n",
    "    \n",
    "    # for testing\n",
    "    # for each feature, stddev should be 1 and mean should be 0\n",
    "    #print(\"stddev of normalized\", np.std(normalized,0))    \n",
    "    #print(\"mean of normalized\", np.mean(normalized,0))    \n",
    "    \n",
    "    return normalized  "
   ]
  },
  {
   "cell_type": "code",
   "execution_count": 3,
   "metadata": {},
   "outputs": [],
   "source": [
    "def kmeans_2_clusters(X, max_iter, random_state = 42):\n",
    "    km = KMeans(n_clusters=2, max_iter = max_iter, random_state=random_state)\n",
    "    km.fit(X)\n",
    "    return km.labels_"
   ]
  },
  {
   "cell_type": "markdown",
   "metadata": {},
   "source": [
    "#### BKMEANS FUNCTION"
   ]
  },
  {
   "cell_type": "code",
   "execution_count": 4,
   "metadata": {},
   "outputs": [],
   "source": [
    "def bkmeans(X, k, max_iter, random_state = 42):\n",
    "    # K should be greater than 1, otherwise it can be considered already a cluster\n",
    "    assert k>1\n",
    "    \n",
    "    # Step 1, initialize by dividing in to two clusters\n",
    "    clusters = kmeans_2_clusters(X, max_iter)\n",
    "    cluster_counter = 2\n",
    "    \n",
    "    # Step 2, Iterate until reached num of clusters desired\n",
    "    while cluster_counter < k:\n",
    "        # Get largest cluster\n",
    "        cluster_ids, cluster_counts = np.unique(clusters, return_counts = True)\n",
    "        largest_cluster_index = np.argmax(cluster_counts)\n",
    "        \n",
    "        # This is actually unnecessary because the id always matches the index\n",
    "        largest_cluster_id = cluster_ids[largest_cluster_index]\n",
    "        \n",
    "        # Get indices of elements in the largest cluster \n",
    "        indices = np.nonzero(clusters == largest_cluster_id)[0]\n",
    "        \n",
    "        # Get values of subcluster for use in Kmeans\n",
    "        values_largest_cluster = X[indices]\n",
    "        \n",
    "        # Split subcluster into two smaller clusters\n",
    "        subcluster_labels = kmeans_2_clusters(values_largest_cluster, max_iter)\n",
    "        \n",
    "        # Get indices of new subcluster that is mapped to 0 (arbitrary, can choose 0 or 1)\n",
    "        subcluster_label_indices = np.nonzero(subcluster_labels == 0)[0]\n",
    "\n",
    "        # Map indices of new subcluster back to the main cluster array\n",
    "        original_indices = indices[subcluster_label_indices]\n",
    "        \n",
    "        # Update main cluster array with new subcluster assignments\n",
    "        clusters[original_indices] = cluster_counter\n",
    "        cluster_counter += 1\n",
    "    \n",
    "    return clusters\n",
    "    "
   ]
  },
  {
   "cell_type": "code",
   "execution_count": 5,
   "metadata": {},
   "outputs": [],
   "source": [
    "def ex1():\n",
    "    # load data\n",
    "    data = np.loadtxt('./diabetes.csv',delimiter=',',skiprows=1)\n",
    "    X = data[:, 0:-1]\n",
    "    #y = data[:, -1]\n",
    "\n",
    "    # Normalize Data\n",
    "    Xn = feature_normalization(X)\n",
    "    \n",
    "    # Get Clusters\n",
    "    clusters = bkmeans(Xn, 10, 10)\n",
    "    \n",
    "    print(\"A4, EX1\\nclusters.shape\",clusters.shape,\"\\nclusters\",clusters)"
   ]
  },
  {
   "cell_type": "code",
   "execution_count": 6,
   "metadata": {},
   "outputs": [
    {
     "name": "stdout",
     "output_type": "stream",
     "text": [
      "A4, EX1\n",
      "clusters.shape (768,) \n",
      "clusters [3 0 1 0 6 5 0 4 9 1 5 1 1 9 9 4 2 1 2 8 6 1 1 3 3 3 1 7 3 1 3 6 0 5 3 8 1\n",
      " 3 2 9 8 1 1 9 1 6 5 0 2 4 7 7 0 9 9 0 9 2 1 2 4 1 5 8 1 0 2 1 0 8 8 8 1 8\n",
      " 0 0 1 2 4 0 0 4 3 0 1 8 3 2 3 0 5 8 3 1 7 9 0 0 0 2 6 5 5 0 5 8 5 8 0 2 8\n",
      " 9 0 5 9 1 1 5 0 0 6 2 2 1 5 2 2 2 8 1 9 1 6 3 7 0 0 0 5 8 1 3 0 1 6 7 3 6\n",
      " 1 0 2 5 9 6 1 3 7 7 0 3 3 3 2 0 5 3 0 5 5 5 1 8 4 2 0 9 1 2 1 1 5 8 0 5 1\n",
      " 9 9 6 3 8 5 3 1 1 1 6 5 7 2 6 7 5 7 0 3 0 9 1 0 3 0 2 3 2 3 9 2 8 7 1 6 1\n",
      " 4 9 7 0 5 8 6 2 8 9 0 5 0 1 9 2 3 5 0 2 5 6 8 9 1 6 9 0 1 5 0 0 3 2 0 0 6\n",
      " 9 1 4 0 1 5 3 4 2 5 4 3 0 1 2 1 2 0 0 1 7 5 3 3 1 1 3 6 6 0 2 2 2 6 2 1 8\n",
      " 6 8 3 1 4 8 2 1 1 2 3 0 6 6 3 2 7 7 3 8 0 1 2 1 7 0 0 3 2 8 8 1 2 3 3 0 4\n",
      " 1 0 6 4 1 9 1 7 7 0 1 1 3 7 4 0 0 5 1 0 7 5 1 6 3 3 6 6 1 3 1 6 0 1 0 0 9\n",
      " 6 7 0 2 2 9 0 2 1 2 8 0 7 7 0 0 8 3 9 8 8 1 6 7 1 6 8 2 5 8 5 1 3 3 1 2 1\n",
      " 5 1 6 2 8 6 0 8 6 7 3 5 0 2 7 2 0 9 6 4 6 2 8 4 0 0 5 7 4 3 1 0 1 1 0 8 1\n",
      " 5 6 7 2 2 0 0 5 2 1 2 3 1 0 9 3 3 5 3 0 1 7 0 2 4 2 2 2 2 1 5 1 2 3 3 3 6\n",
      " 2 0 2 4 2 6 9 0 1 2 2 0 9 4 1 5 0 9 9 0 0 0 3 2 1 8 8 7 1 3 0 1 5 0 8 9 1\n",
      " 1 9 0 8 4 1 5 0 0 0 8 5 7 2 2 4 2 4 1 1 6 6 3 8 3 2 2 9 9 8 9 9 0 2 1 0 2\n",
      " 3 2 1 3 1 1 6 2 0 5 7 2 3 9 8 5 5 0 0 6 2 7 2 1 9 2 0 1 1 9 0 1 5 9 4 3 2\n",
      " 1 6 6 6 5 4 1 7 0 4 0 9 4 2 6 0 6 0 0 6 9 2 3 5 1 0 3 4 2 7 1 2 5 2 5 5 1\n",
      " 0 1 2 5 0 1 1 1 7 2 0 8 5 1 4 8 6 8 6 3 0 0 8 2 5 2 6 0 6 1 2 1 6 9 3 3 2\n",
      " 1 3 3 3 9 7 3 6 1 1 1 5 5 7 0 2 2 5 1 8 5 0 6 9 1 1 2 3 5 9 8 4 8 8 8 3 9\n",
      " 4 0 2 4 8 1 2 6 3 3 6 5 9 6 1 2 3 0 2 8 3 1 2 8 8 5 5 0 1 6 0 1 0 8 3 8 5\n",
      " 3 0 0 1 9 3 2 2 9 1 5 2 0 6 3 6 3 1 5 1 7 3 1 3 2 0 1 0]\n"
     ]
    }
   ],
   "source": [
    "ex1()"
   ]
  },
  {
   "cell_type": "markdown",
   "metadata": {},
   "source": [
    "# Exercise 2: Non-linear Dimensionality Reduction"
   ]
  },
  {
   "cell_type": "code",
   "execution_count": null,
   "metadata": {},
   "outputs": [],
   "source": []
  },
  {
   "cell_type": "code",
   "execution_count": null,
   "metadata": {},
   "outputs": [],
   "source": []
  },
  {
   "cell_type": "code",
   "execution_count": 7,
   "metadata": {},
   "outputs": [],
   "source": [
    "def sammon(X, iter, epsilon, alpha):\n",
    "    return [[]]"
   ]
  },
  {
   "cell_type": "code",
   "execution_count": 8,
   "metadata": {},
   "outputs": [
    {
     "data": {
      "text/plain": [
       "[[]]"
      ]
     },
     "execution_count": 8,
     "metadata": {},
     "output_type": "execute_result"
    }
   ],
   "source": [
    "sammon(1,2,3,4)"
   ]
  },
  {
   "cell_type": "code",
   "execution_count": null,
   "metadata": {},
   "outputs": [],
   "source": []
  },
  {
   "cell_type": "code",
   "execution_count": null,
   "metadata": {},
   "outputs": [],
   "source": []
  },
  {
   "cell_type": "code",
   "execution_count": null,
   "metadata": {},
   "outputs": [],
   "source": []
  },
  {
   "cell_type": "markdown",
   "metadata": {},
   "source": [
    "# Exercise 3: Visualization of Results"
   ]
  },
  {
   "cell_type": "code",
   "execution_count": null,
   "metadata": {},
   "outputs": [],
   "source": []
  }
 ],
 "metadata": {
  "kernelspec": {
   "display_name": "Python 3",
   "language": "python",
   "name": "python3"
  },
  "language_info": {
   "codemirror_mode": {
    "name": "ipython",
    "version": 3
   },
   "file_extension": ".py",
   "mimetype": "text/x-python",
   "name": "python",
   "nbconvert_exporter": "python",
   "pygments_lexer": "ipython3",
   "version": "3.7.7"
  }
 },
 "nbformat": 4,
 "nbformat_minor": 4
}
